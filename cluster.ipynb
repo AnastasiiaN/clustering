{
 "cells": [
  {
   "cell_type": "code",
   "execution_count": 1,
   "metadata": {
    "collapsed": false
   },
   "outputs": [
    {
     "name": "stderr",
     "output_type": "stream",
     "text": [
      "/usr/local/lib/python2.7/dist-packages/fuzzywuzzy/fuzz.py:35: UserWarning: Using slow pure-python SequenceMatcher. Install python-Levenshtein to remove this warning\n",
      "  warnings.warn('Using slow pure-python SequenceMatcher. Install python-Levenshtein to remove this warning')\n"
     ]
    }
   ],
   "source": [
    "from sklearn.feature_extraction.text import TfidfTransformer\n",
    "from sklearn.feature_extraction.text import TfidfVectorizer\n",
    "from sklearn.cluster import DBSCAN\n",
    "from nltk.stem.snowball import *\n",
    "from sklearn import metrics\n",
    "from fuzzywuzzy import fuzz\n",
    "import numpy as np\n",
    "import cyrtranslit\n",
    "import operator\n",
    "import sys\n",
    "import re"
   ]
  },
  {
   "cell_type": "code",
   "execution_count": 2,
   "metadata": {
    "collapsed": true
   },
   "outputs": [],
   "source": [
    "def removePunctuation(text):\n",
    "    return re.sub(ur'[^a-zA-Zа-яА-Я ]', '', text.lower()).strip()"
   ]
  },
  {
   "cell_type": "code",
   "execution_count": 3,
   "metadata": {
    "collapsed": true
   },
   "outputs": [],
   "source": [
    "def translit(s):\n",
    "    try:\n",
    "        return cyrtranslit.to_cyrillic(s, \"ru\").decode('utf-8')\n",
    "    except: return s"
   ]
  },
  {
   "cell_type": "code",
   "execution_count": null,
   "metadata": {
    "collapsed": true
   },
   "outputs": [],
   "source": [
    "def get_closest_words(query, sorted_f):\n",
    "    res = []\n",
    "    for j in query:\n",
    "        for word in sorted_f:\n",
    "            if fuzz.ratio(j, word[0])>78: \n",
    "                res.append(word[0])\n",
    "                break\n",
    "    return res"
   ]
  },
  {
   "cell_type": "code",
   "execution_count": 4,
   "metadata": {
    "collapsed": false
   },
   "outputs": [],
   "source": [
    "import csv\n",
    "with open('queries.csv', 'r') as f:\n",
    "    data = f.readlines()\n",
    "data = data[1:]\n",
    "data = [line.split(',') for line in data]\n",
    "data = [[x[0], int(x[1])] for x in data]\n",
    "y = [x[1] for x in data]\n",
    "queries = [x for x in data]\n",
    "queries = [removePunctuation(x[0].decode('utf-8')) for x in queries]\n",
    "data = [x.replace('+', ' ') for x in queries]"
   ]
  },
  {
   "cell_type": "code",
   "execution_count": 5,
   "metadata": {
    "collapsed": true
   },
   "outputs": [],
   "source": [
    "stemmer = RussianStemmer(ignore_stopwords=True)\n",
    "new_data = []\n",
    "for i in data:\n",
    "    new_data.append([translit(stemmer.stem(word)) for word in i.split(' ')])"
   ]
  },
  {
   "cell_type": "code",
   "execution_count": 6,
   "metadata": {
    "collapsed": true
   },
   "outputs": [],
   "source": [
    "unique_words = list(set([item for sublist in new_data for item in sublist]))\n",
    "all_words = [item for sublist in new_data for item in sublist]\n",
    "frequency = {x: all_words.count(x)/float(len(unique_words)) for x in unique_words}\n",
    "sorted_frequency = sorted(frequency.items(), key=operator.itemgetter(1), reverse=True)"
   ]
  },
  {
   "cell_type": "code",
   "execution_count": 8,
   "metadata": {
    "collapsed": true
   },
   "outputs": [],
   "source": [
    "f_data = [get_closest_words(query,sorted_frequency) for query in new_data]"
   ]
  },
  {
   "cell_type": "code",
   "execution_count": 9,
   "metadata": {
    "collapsed": true
   },
   "outputs": [],
   "source": [
    "ready = [' '.join(q) for q in f_data if len(q)>0]"
   ]
  },
  {
   "cell_type": "code",
   "execution_count": 10,
   "metadata": {
    "collapsed": false
   },
   "outputs": [
    {
     "name": "stdout",
     "output_type": "stream",
     "text": [
      "n_samples: 3199, n_features: 426\n"
     ]
    }
   ],
   "source": [
    "vectorizer = TfidfVectorizer(max_df=0.03,max_features = len(unique_words),\n",
    "                                 min_df=2,use_idf=True,strip_accents='unicode')\n",
    "X = vectorizer.fit_transform(ready)\n",
    "\n",
    "\n",
    "print(\"n_samples: %d, n_features: %d\" % X.shape)"
   ]
  },
  {
   "cell_type": "code",
   "execution_count": 11,
   "metadata": {
    "collapsed": true
   },
   "outputs": [],
   "source": [
    "db = DBSCAN(eps=0.75, min_samples=2, metric='euclidean', algorithm='auto').fit(X)"
   ]
  },
  {
   "cell_type": "code",
   "execution_count": 12,
   "metadata": {
    "collapsed": false
   },
   "outputs": [
    {
     "name": "stdout",
     "output_type": "stream",
     "text": [
      "Estimated number of clusters: 315\n",
      "Real number of clusters: 180\n",
      "Homogeneity: 0.908\n",
      "Completeness: 0.863\n",
      "V-measure: 0.885\n"
     ]
    }
   ],
   "source": [
    "core_samples_mask = np.zeros_like(db.labels_, dtype=bool)\n",
    "core_samples_mask[db.core_sample_indices_] = True\n",
    "labels = db.labels_\n",
    "\n",
    "n_clusters_ = len(set(labels)) - (1 if -1 in labels else 0)\n",
    "print('Estimated number of clusters: %d' % n_clusters_)\n",
    "print('Real number of clusters: %d' % len(list(set(y))))\n",
    "print(\"Homogeneity: %0.3f\" % metrics.homogeneity_score(y, labels))\n",
    "print(\"Completeness: %0.3f\" % metrics.completeness_score(y, labels))\n",
    "print(\"V-measure: %0.3f\" % metrics.v_measure_score(y, labels))\n"
   ]
  },
  {
   "cell_type": "code",
   "execution_count": 13,
   "metadata": {
    "collapsed": false
   },
   "outputs": [
    {
     "name": "stdout",
     "output_type": "stream",
     "text": [
      "noise:  95\n",
      "\n",
      "loreal telescopic тушь\n",
      "лореаль тушь телескопик\n",
      "тушь телескопик цена\n",
      "тушь телескопик купить\n",
      "купить тушь лореаль телескопик\n",
      "тушь лореаль телескопик купить\n",
      "купить тушь лореаль телескопик украина\n",
      "тушь лореаль телескопик цена\n",
      "тушь телескопик\n",
      "лореаль телескопик тушь\n",
      "тушь loreal telescopic\n",
      "telescopic тушь\n",
      "телескопик тушь\n",
      "тушь телескопик от лореаль\n",
      "тушь для ресниц лореаль телескопик\n",
      "тушь лореаль телескопик\n",
      "тушь telescopic\n",
      "телескопик тушь цена\n",
      "тушь\n",
      "тушь    цена\n",
      "тушь    отзывы\n"
     ]
    }
   ],
   "source": [
    "count = 0\n",
    "for i in labels:\n",
    "    if i==-1: count += 1\n",
    "print 'noise: ',count\n",
    "print\n",
    "for i in range(len(labels)):\n",
    "    if labels[i] == 5:\n",
    "        print ''.join(data[i])"
   ]
  },
  {
   "cell_type": "code",
   "execution_count": null,
   "metadata": {
    "collapsed": true
   },
   "outputs": [],
   "source": []
  }
 ],
 "metadata": {
  "kernelspec": {
   "display_name": "Python 2",
   "language": "python",
   "name": "python2"
  },
  "language_info": {
   "codemirror_mode": {
    "name": "ipython",
    "version": 2
   },
   "file_extension": ".py",
   "mimetype": "text/x-python",
   "name": "python",
   "nbconvert_exporter": "python",
   "pygments_lexer": "ipython2",
   "version": "2.7.6"
  }
 },
 "nbformat": 4,
 "nbformat_minor": 1
}
