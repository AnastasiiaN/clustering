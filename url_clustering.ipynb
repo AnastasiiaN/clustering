{
 "cells": [
  {
   "cell_type": "code",
   "execution_count": 31,
   "metadata": {
    "collapsed": true
   },
   "outputs": [],
   "source": [
    "from sklearn.cluster import DBSCAN\n",
    "from datasketch import MinHash\n",
    "from time import time\n",
    "import numpy as np"
   ]
  },
  {
   "cell_type": "code",
   "execution_count": 32,
   "metadata": {
    "collapsed": true
   },
   "outputs": [],
   "source": [
    "with open('clust-test.txt') as f:\n",
    "    data = f.readlines()"
   ]
  },
  {
   "cell_type": "code",
   "execution_count": 33,
   "metadata": {
    "collapsed": true
   },
   "outputs": [],
   "source": [
    "data = [line.split('###') for line in data]\n",
    "data = filter(lambda line: int(line[-1]) <= 10, data)"
   ]
  },
  {
   "cell_type": "code",
   "execution_count": 34,
   "metadata": {
    "collapsed": true
   },
   "outputs": [],
   "source": [
    "queries = []\n",
    "urls = []\n",
    "q = data[0][0]\n",
    "flag = True\n",
    "for i in data:\n",
    "    if flag: \n",
    "        urls.append(i[1])\n",
    "        if int(i[-1])==10: flag = False\n",
    "    else:\n",
    "        queries.append([q, urls])\n",
    "        urls = []\n",
    "        q = i[0]\n",
    "        flag = True\n",
    "        urls.append(i[1])  "
   ]
  },
  {
   "cell_type": "code",
   "execution_count": 35,
   "metadata": {
    "collapsed": false
   },
   "outputs": [],
   "source": [
    "data = [q[1] for q in queries]"
   ]
  },
  {
   "cell_type": "code",
   "execution_count": 36,
   "metadata": {
    "collapsed": false
   },
   "outputs": [
    {
     "name": "stdout",
     "output_type": "stream",
     "text": [
      "36.0651381016\n"
     ]
    }
   ],
   "source": [
    "res = np.zeros(shape=(len(data),len(data)))\n",
    "t0 = time()\n",
    "for i in range(len(r)):\n",
    "    for j in range(i):\n",
    "        res[i][j] = (1 - mh[i].jaccard(mh[j]))\n",
    "        res[j][i] = res[i][j]\n",
    "print time() - t0 "
   ]
  },
  {
   "cell_type": "code",
   "execution_count": 37,
   "metadata": {
    "collapsed": true
   },
   "outputs": [],
   "source": [
    "db = DBSCAN(eps=0.85, min_samples=2, metric='precomputed').fit(res)"
   ]
  },
  {
   "cell_type": "code",
   "execution_count": 38,
   "metadata": {
    "collapsed": false
   },
   "outputs": [
    {
     "name": "stdout",
     "output_type": "stream",
     "text": [
      "224\n"
     ]
    }
   ],
   "source": [
    "core_samples_mask = np.zeros_like(db.labels_, dtype=bool)\n",
    "core_samples_mask[db.core_sample_indices_] = True\n",
    "labels = db.labels_\n",
    "\n",
    "\n",
    "n_clusters_ = len(set(labels)) - (1 if -1 in labels else 0)\n",
    "print n_clusters_"
   ]
  },
  {
   "cell_type": "code",
   "execution_count": 39,
   "metadata": {
    "collapsed": false
   },
   "outputs": [
    {
     "name": "stdout",
     "output_type": "stream",
     "text": [
      "74\n",
      "\n",
      "maybelline affinitone\n",
      "тональный крем совершенный тон\n",
      "аффинитон\n",
      "афинитон\n",
      "тональный крем affinitone оттенки\n",
      "мейбелин совершенный тон отзывы\n",
      "аффинитон отзывы\n",
      "мейбелин аффинитон отзывы\n",
      "affinitone тональный крем\n",
      "тональный крем мейбелин совершенный тон отзывы\n",
      "тональный крем мейбелин аффинитон отзывы\n",
      "maybelline affinitone оттенки\n",
      "мейбелин аффинитон тональный крем отзывы\n",
      "maybeline affinitone\n",
      "affinitone отзывы\n",
      "мэйбеллин аффинитон\n",
      "тональный крем аффинитон\n",
      "maybelline affinitone отзывы\n",
      "affinitone maybelline отзывы\n",
      "мейбелин affinitone отзывы\n",
      "аффинитон тональный крем\n",
      "совершенный тон\n",
      "тональный крем maybelline affinitone\n",
      "new affinitone maybelline\n",
      "тональный крем maybelline affinitone совершенный тон\n",
      "тональный крем maybelline affinitone отзывы\n",
      "тональный maybelline\n",
      "тональный крем affinitone\n",
      "мейбелин афинитон\n",
      "тональный крем аффинитон отзывы\n",
      "тоналка мейбелин аффинитон\n",
      "affinitone совершенный тон отзывы\n",
      "мейбелин аффинитон\n"
     ]
    }
   ],
   "source": [
    "count = 0\n",
    "for i in labels:\n",
    "    if i==-1: count += 1\n",
    "print count\n",
    "print\n",
    "for i in range(len(labels)):\n",
    "    if labels[i] == 3:\n",
    "        print ''.join(queries[i][0])\n",
    "        "
   ]
  },
  {
   "cell_type": "code",
   "execution_count": null,
   "metadata": {
    "collapsed": true
   },
   "outputs": [],
   "source": []
  }
 ],
 "metadata": {
  "kernelspec": {
   "display_name": "Python 2",
   "language": "python",
   "name": "python2"
  },
  "language_info": {
   "codemirror_mode": {
    "name": "ipython",
    "version": 2
   },
   "file_extension": ".py",
   "mimetype": "text/x-python",
   "name": "python",
   "nbconvert_exporter": "python",
   "pygments_lexer": "ipython2",
   "version": "2.7.6"
  }
 },
 "nbformat": 4,
 "nbformat_minor": 1
}
